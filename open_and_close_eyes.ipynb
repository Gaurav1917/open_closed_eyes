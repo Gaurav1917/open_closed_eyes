{
  "cells": [
    {
      "cell_type": "markdown",
      "metadata": {
        "id": "SnvfX2FsL0Lm"
      },
      "source": [
        "#Importing the Libraries"
      ]
    },
    {
      "cell_type": "code",
      "execution_count": 1,
      "metadata": {
        "id": "WfVUrW1flw93"
      },
      "outputs": [],
      "source": [
        "import tensorflow as tf\n",
        "from tensorflow import keras\n",
        "import cv2\n",
        "import os\n",
        "import random\n"
      ]
    },
    {
      "cell_type": "markdown",
      "metadata": {
        "id": "PGpm6JE-MEme"
      },
      "source": [
        "#Importing the training dataset from Drive."
      ]
    },
    {
      "cell_type": "code",
      "execution_count": 2,
      "metadata": {
        "id": "xQ6MO2ylmM89"
      },
      "outputs": [],
      "source": [
        "dataset_train = r'/content/drive/MyDrive/Dataset/Train'"
      ]
    },
    {
      "cell_type": "code",
      "execution_count": 10,
      "metadata": {
        "id": "IIK4dkrHmZS8"
      },
      "outputs": [],
      "source": [
        "categories = ['Close eyes','Open eyes']\n",
        "img_size = 60\n",
        "data_1 =[]\n",
        "for category in categories:\n",
        "  folder_1 = os.path.join(dataset_train,category)\n",
        "  label_1 = categories.index(category)\n",
        "  for img in os.listdir(folder_1):\n",
        "    img_path = os.path.join(folder_1,img)\n",
        "    img_arr = cv2.imread(img_path)\n",
        "    img_arr_1 = cv2.resize(img_arr,(img_size,img_size))\n",
        "    data_1.append([img_arr_1,label_1])\n"
      ]
    },
    {
      "cell_type": "markdown",
      "metadata": {
        "id": "sWnMnM4sMPAg"
      },
      "source": [
        "#Importing the test dataset from Drive\n"
      ]
    },
    {
      "cell_type": "code",
      "execution_count": 11,
      "metadata": {
        "id": "SvkwgoekoGIU"
      },
      "outputs": [],
      "source": [
        "dataset_test = r'/content/drive/MyDrive/Dataset/Test'\n",
        "data_2 = []\n",
        "for category in categories:\n",
        "  folder_2 = os.path.join(dataset_test,category)\n",
        "  label_2 = categories.index(category)\n",
        "  for img_1 in os.listdir(folder_2):\n",
        "    img_path_1 = os.path.join(folder_2,img_1)\n",
        "    img_arr2 = cv2.imread(img_path_1)\n",
        "    img_arr_2 = cv2.resize(img_arr2,(img_size,img_size))\n",
        "    data_2.append([img_arr_2,label_2])"
      ]
    },
    {
      "cell_type": "markdown",
      "metadata": {
        "id": "-oL3u8jEMbht"
      },
      "source": [
        "##Working on train data"
      ]
    },
    {
      "cell_type": "code",
      "execution_count": null,
      "metadata": {
        "colab": {
          "base_uri": "https://localhost:8080/"
        },
        "id": "I7xIN2nDp_L3",
        "outputId": "f86762ca-db5b-48ec-fe46-1ad18a2c7c84"
      },
      "outputs": [
        {
          "data": {
            "text/plain": [
              "17192"
            ]
          },
          "execution_count": 5,
          "metadata": {},
          "output_type": "execute_result"
        }
      ],
      "source": [
        "len(data_1)"
      ]
    },
    {
      "cell_type": "code",
      "execution_count": null,
      "metadata": {
        "id": "t0lW26Lmp30Z"
      },
      "outputs": [],
      "source": [
        "#Shuffling the images\n",
        "random.shuffle(data_1)"
      ]
    },
    {
      "cell_type": "code",
      "execution_count": null,
      "metadata": {
        "colab": {
          "base_uri": "https://localhost:8080/"
        },
        "id": "jtq4cBNgqVHD",
        "outputId": "0b429fe2-0ad9-4972-8dcc-dcfd9b68537d"
      },
      "outputs": [
        {
          "name": "stdout",
          "output_type": "stream",
          "text": [
            "[array([[[46, 46, 46],\n",
            "        [46, 46, 46],\n",
            "        [47, 47, 47],\n",
            "        ...,\n",
            "        [77, 77, 77],\n",
            "        [76, 76, 76],\n",
            "        [74, 74, 74]],\n",
            "\n",
            "       [[45, 45, 45],\n",
            "        [45, 45, 45],\n",
            "        [46, 46, 46],\n",
            "        ...,\n",
            "        [77, 77, 77],\n",
            "        [76, 76, 76],\n",
            "        [75, 75, 75]],\n",
            "\n",
            "       [[46, 46, 46],\n",
            "        [45, 45, 45],\n",
            "        [46, 46, 46],\n",
            "        ...,\n",
            "        [77, 77, 77],\n",
            "        [77, 77, 77],\n",
            "        [77, 77, 77]],\n",
            "\n",
            "       ...,\n",
            "\n",
            "       [[57, 57, 57],\n",
            "        [53, 53, 53],\n",
            "        [51, 51, 51],\n",
            "        ...,\n",
            "        [69, 69, 69],\n",
            "        [70, 70, 70],\n",
            "        [70, 70, 70]],\n",
            "\n",
            "       [[60, 60, 60],\n",
            "        [55, 55, 55],\n",
            "        [52, 52, 52],\n",
            "        ...,\n",
            "        [68, 68, 68],\n",
            "        [69, 69, 69],\n",
            "        [72, 72, 72]],\n",
            "\n",
            "       [[61, 61, 61],\n",
            "        [57, 57, 57],\n",
            "        [53, 53, 53],\n",
            "        ...,\n",
            "        [70, 70, 70],\n",
            "        [70, 70, 70],\n",
            "        [72, 72, 72]]], dtype=uint8), 0]\n"
          ]
        }
      ],
      "source": [
        "print(data_1[0])"
      ]
    },
    {
      "cell_type": "code",
      "execution_count": null,
      "metadata": {
        "id": "_D81eRvZqBxI"
      },
      "outputs": [],
      "source": [
        "#Extracting the features and labels from training data\n",
        "X = []\n",
        "Y = []\n",
        "for features,labels in data_1:\n",
        "  X.append(features)\n",
        "  Y.append(labels)"
      ]
    },
    {
      "cell_type": "code",
      "execution_count": null,
      "metadata": {
        "id": "2P3WjcwhqhU-"
      },
      "outputs": [],
      "source": [
        "#Converting the data into numpy array\n",
        "import numpy as np\n",
        "X = np.array(X)\n",
        "Y = np.array(Y)"
      ]
    },
    {
      "cell_type": "code",
      "execution_count": null,
      "metadata": {
        "colab": {
          "base_uri": "https://localhost:8080/"
        },
        "id": "rntYjsT3qyuH",
        "outputId": "56d149c9-179b-41e5-eeb6-97d11e3b4af6"
      },
      "outputs": [
        {
          "data": {
            "text/plain": [
              "17192"
            ]
          },
          "execution_count": 29,
          "metadata": {},
          "output_type": "execute_result"
        }
      ],
      "source": [
        "len(X)"
      ]
    },
    {
      "cell_type": "code",
      "execution_count": null,
      "metadata": {
        "colab": {
          "base_uri": "https://localhost:8080/"
        },
        "id": "_UvEc3TUrVBZ",
        "outputId": "0a82e96b-754e-456e-8212-8d84c184b416"
      },
      "outputs": [
        {
          "data": {
            "text/plain": [
              "17192"
            ]
          },
          "execution_count": 30,
          "metadata": {},
          "output_type": "execute_result"
        }
      ],
      "source": [
        "len(Y)"
      ]
    },
    {
      "cell_type": "markdown",
      "metadata": {
        "id": "FUqIhgTSMkwi"
      },
      "source": [
        "##Working on test data"
      ]
    },
    {
      "cell_type": "code",
      "execution_count": null,
      "metadata": {
        "id": "fZ0cYgBNrb_K"
      },
      "outputs": [],
      "source": [
        "random.shuffle(data_2)"
      ]
    },
    {
      "cell_type": "code",
      "execution_count": null,
      "metadata": {
        "colab": {
          "base_uri": "https://localhost:8080/"
        },
        "id": "QXXEKil27qjB",
        "outputId": "1c973b8a-d4d2-4f31-c7b3-f12a22b0ef52"
      },
      "outputs": [
        {
          "data": {
            "text/plain": [
              "2497"
            ]
          },
          "execution_count": 10,
          "metadata": {},
          "output_type": "execute_result"
        }
      ],
      "source": [
        "len(data_2)"
      ]
    },
    {
      "cell_type": "code",
      "execution_count": 25,
      "metadata": {
        "id": "qNRyINkm706Z"
      },
      "outputs": [],
      "source": [
        "x=[]\n",
        "y=[]\n",
        "\n",
        "for features,labels in data_2:\n",
        "  x.append(features)\n",
        "  y.append(labels)\n"
      ]
    },
    {
      "cell_type": "code",
      "execution_count": 27,
      "metadata": {
        "id": "u3qdzgpV8G7T"
      },
      "outputs": [],
      "source": [
        "#converting test data into numpy array\n",
        "import numpy as np\n",
        "x = np.array(x)\n",
        "y = np.array(y)"
      ]
    },
    {
      "cell_type": "code",
      "execution_count": null,
      "metadata": {
        "id": "KAPrbZry8Rm9"
      },
      "outputs": [],
      "source": [
        "#Rescaling the train and test data\n",
        "X = X/255\n",
        "x = x/255"
      ]
    },
    {
      "cell_type": "markdown",
      "metadata": {
        "id": "rAH4NnI8NcJ6"
      },
      "source": [
        "###Plotting the images"
      ]
    },
    {
      "cell_type": "code",
      "execution_count": null,
      "metadata": {
        "id": "Y3VuGi2h8YmH"
      },
      "outputs": [],
      "source": [
        "#image view\n",
        "from matplotlib import pyplot as plt\n",
        "def plot_images(x1,y1,index):\n",
        "  plt.figure(figsize=(8,8))\n",
        "  plt.imshow(x1[index])\n",
        "  plt.xlabel(categories[y1[index]])"
      ]
    },
    {
      "cell_type": "code",
      "execution_count": null,
      "metadata": {
        "colab": {
          "base_uri": "https://localhost:8080/",
          "height": 696
        },
        "id": "lEi_TV7v-Ci3",
        "outputId": "c33c5200-80fa-4416-ed22-d330b6356156"
      },
      "outputs": [
        {
          "data": {
            "image/png": "[encoded data removed]",
            "text/plain": [
              "<Figure size 800x800 with 1 Axes>"
            ]
          },
          "metadata": {},
          "output_type": "display_data"
        }
      ],
      "source": [
        "plot_images(X,Y,1)"
      ]
    },
    {
      "cell_type": "code",
      "execution_count": null,
      "metadata": {
        "id": "ba8C8ZNT-xtf"
      },
      "outputs": [],
      "source": [
        "#reshaping the target\n",
        "Y_reshape = Y.reshape(len(Y),1*1)\n",
        "y_reshape = y.reshape(len(y),1*1)"
      ]
    },
    {
      "cell_type": "code",
      "execution_count": null,
      "metadata": {
        "colab": {
          "base_uri": "https://localhost:8080/"
        },
        "id": "CiTiRHo3_HZl",
        "outputId": "6c5c3f16-2c15-429a-eecd-bee14ebe7994"
      },
      "outputs": [
        {
          "data": {
            "text/plain": [
              "array([[0],\n",
              "       [0],\n",
              "       [0],\n",
              "       [1],\n",
              "       [0]])"
            ]
          },
          "execution_count": 17,
          "metadata": {},
          "output_type": "execute_result"
        }
      ],
      "source": [
        "Y_reshape[:5]"
      ]
    },
    {
      "cell_type": "code",
      "execution_count": null,
      "metadata": {
        "id": "2ovfJ5Ws_imh"
      },
      "outputs": [],
      "source": [
        "#Converting the target into categorical values\n",
        "Y_categorical = keras.utils.to_categorical(Y_reshape,num_classes=2,dtype='float32')\n",
        "y_categorical = keras.utils.to_categorical(y_reshape,num_classes=2,dtype='float32')"
      ]
    },
    {
      "cell_type": "code",
      "execution_count": null,
      "metadata": {
        "colab": {
          "base_uri": "https://localhost:8080/"
        },
        "id": "yb9n92I5APjG",
        "outputId": "6e014a2c-7b03-4d9d-9fca-2ebff2bfbda3"
      },
      "outputs": [
        {
          "data": {
            "text/plain": [
              "array([[1., 0.],\n",
              "       [1., 0.],\n",
              "       [1., 0.]], dtype=float32)"
            ]
          },
          "execution_count": 19,
          "metadata": {},
          "output_type": "execute_result"
        }
      ],
      "source": [
        "Y_categorical[:3]"
      ]
    },
    {
      "cell_type": "markdown",
      "metadata": {
        "id": "kpGGZMYuN1ho"
      },
      "source": [
        "#Building the CNN model\n",
        "####This is the first attempt to train the model, after training we check the accuracy of the model. If we did'nt get good accuracy then we proceed to other method."
      ]
    },
    {
      "cell_type": "code",
      "execution_count": null,
      "metadata": {
        "id": "_8IwzJbSAYB0"
      },
      "outputs": [],
      "source": [
        "\n",
        "model = keras.Sequential([\n",
        "    keras.layers.Conv2D(filters=486,kernel_size=(3,3),input_shape=(60,60,3),activation='relu'),\n",
        "    keras.layers.MaxPool2D(pool_size=(2,2)),\n",
        "\n",
        "    keras.layers.Conv2D(256,kernel_size=(3,3),activation='relu'),\n",
        "    keras.layers.MaxPool2D(pool_size=(2,2)),\n",
        "\n",
        "    keras.layers.Conv2D(128,kernel_size=(3,3),activation='relu'),\n",
        "    keras.layers.MaxPool2D(pool_size=(2,2)),\n",
        "\n",
        "\n",
        "\n",
        "    keras.layers.Flatten(),\n",
        "    keras.layers.Dense(586,activation='relu'),\n",
        "    keras.layers.Dropout(0.2),\n",
        "    keras.layers.Dense(256,activation='relu'),\n",
        "    keras.layers.Dropout(0.3),\n",
        "    keras.layers.Dense(128,activation='relu'),\n",
        "    keras.layers.Dropout(0.2),\n",
        "    keras.layers.Dense(2,activation='softmax')\n",
        "\n",
        "])"
      ]
    },
    {
      "cell_type": "markdown",
      "metadata": {
        "id": "H2KawMTbPHJd"
      },
      "source": [
        "###Visualising the CNN layers\n"
      ]
    },
    {
      "cell_type": "code",
      "execution_count": null,
      "metadata": {
        "colab": {
          "base_uri": "https://localhost:8080/"
        },
        "id": "SaCMZk7nQUj-",
        "outputId": "e711b238-8c4b-44ed-bfad-9c2eb287d2b8"
      },
      "outputs": [
        {
          "name": "stdout",
          "output_type": "stream",
          "text": [
            "Model: \"sequential\"\n",
            "_________________________________________________________________\n",
            " Layer (type)                Output Shape              Param #   \n",
            "=================================================================\n",
            " conv2d (Conv2D)             (None, 58, 58, 486)       13608     \n",
            "                                                                 \n",
            " max_pooling2d (MaxPooling2  (None, 29, 29, 486)       0         \n",
            " D)                                                              \n",
            "                                                                 \n",
            " conv2d_1 (Conv2D)           (None, 27, 27, 256)       1120000   \n",
            "                                                                 \n",
            " max_pooling2d_1 (MaxPoolin  (None, 13, 13, 256)       0         \n",
            " g2D)                                                            \n",
            "                                                                 \n",
            " conv2d_2 (Conv2D)           (None, 11, 11, 128)       295040    \n",
            "                                                                 \n",
            " max_pooling2d_2 (MaxPoolin  (None, 5, 5, 128)         0         \n",
            " g2D)                                                            \n",
            "                                                                 \n",
            " flatten (Flatten)           (None, 3200)              0         \n",
            "                                                                 \n",
            " dense (Dense)               (None, 586)               1875786   \n",
            "                                                                 \n",
            " dropout (Dropout)           (None, 586)               0         \n",
            "                                                                 \n",
            " dense_1 (Dense)             (None, 256)               150272    \n",
            "                                                                 \n",
            " dropout_1 (Dropout)         (None, 256)               0         \n",
            "                                                                 \n",
            " dense_2 (Dense)             (None, 128)               32896     \n",
            "                                                                 \n",
            " dropout_2 (Dropout)         (None, 128)               0         \n",
            "                                                                 \n",
            " dense_3 (Dense)             (None, 2)                 258       \n",
            "                                                                 \n",
            "=================================================================\n",
            "Total params: 3487860 (13.31 MB)\n",
            "Trainable params: 3487860 (13.31 MB)\n",
            "Non-trainable params: 0 (0.00 Byte)\n",
            "_________________________________________________________________\n"
          ]
        }
      ],
      "source": [
        "model.summary()"
      ]
    },
    {
      "cell_type": "code",
      "execution_count": null,
      "metadata": {
        "colab": {
          "base_uri": "https://localhost:8080/"
        },
        "id": "NgwEpGPJPqGW",
        "outputId": "4040176b-4a44-47ec-b367-179873cc8e8f"
      },
      "outputs": [
        {
          "name": "stdout",
          "output_type": "stream",
          "text": [
            "Collecting visualkeras\n",
            "  Downloading visualkeras-0.0.2-py3-none-any.whl (12 kB)\n",
            "Requirement already satisfied: pillow>=6.2.0 in /usr/local/lib/python3.10/dist-packages (from visualkeras) (9.4.0)\n",
            "Requirement already satisfied: numpy>=1.18.1 in /usr/local/lib/python3.10/dist-packages (from visualkeras) (1.23.5)\n",
            "Collecting aggdraw>=1.3.11 (from visualkeras)\n",
            "  Downloading aggdraw-1.3.18-cp310-cp310-manylinux_2_17_x86_64.manylinux2014_x86_64.whl (993 kB)\n",
            "\u001b[2K     \u001b[90m━━━━━━━━━━━━━━━━━━━━━━━━━━━━━━━━━━━━━━━━\u001b[0m \u001b[32m993.7/993.7 kB\u001b[0m \u001b[31m2.4 MB/s\u001b[0m eta \u001b[36m0:00:00\u001b[0m\n",
            "\u001b[?25hInstalling collected packages: aggdraw, visualkeras\n",
            "Successfully installed aggdraw-1.3.18 visualkeras-0.0.2\n"
          ]
        }
      ],
      "source": [
        "!pip install visualkeras\n"
      ]
    },
    {
      "cell_type": "code",
      "execution_count": null,
      "metadata": {
        "colab": {
          "base_uri": "https://localhost:8080/",
          "height": 327
        },
        "id": "L3ARylibP1iT",
        "outputId": "b64ee5c4-7a1b-47c1-8c03-7fdc0802a571"
      },
      "outputs": [
        {
          "data": {
            "image/png": "[encoded data removed]",
            "text/plain": [
              "<PIL.Image.Image image mode=RGBA size=929x310>"
            ]
          },
          "execution_count": 24,
          "metadata": {},
          "output_type": "execute_result"
        }
      ],
      "source": [
        "import visualkeras\n",
        "visualkeras.layered_view(model)"
      ]
    },
    {
      "cell_type": "code",
      "execution_count": null,
      "metadata": {
        "colab": {
          "base_uri": "https://localhost:8080/",
          "height": 280
        },
        "id": "s9dt9sTBQAR9",
        "outputId": "59884f2c-1fee-4317-d07a-7063117989bc"
      },
      "outputs": [
        {
          "data": {
            "image/png": "[encoded data removed]",
            "text/plain": [
              "<PIL.Image.Image image mode=RGBA size=887x263>"
            ]
          },
          "execution_count": 25,
          "metadata": {},
          "output_type": "execute_result"
        }
      ],
      "source": [
        "#plotting the layers with name\n",
        "visualkeras.layered_view(model,legend=True,draw_volume=False)"
      ]
    },
    {
      "cell_type": "code",
      "execution_count": null,
      "metadata": {
        "colab": {
          "base_uri": "https://localhost:8080/"
        },
        "id": "mdXa8ei3Esxl",
        "outputId": "38106855-c112-4887-f506-72b46c47512a"
      },
      "outputs": [
        {
          "name": "stdout",
          "output_type": "stream",
          "text": [
            "Epoch 1/10\n",
            "3439/3439 [==============================] - 42s 11ms/step - loss: 0.0670 - accuracy: 0.9854 - val_loss: 0.7446 - val_accuracy: 0.8194\n",
            "Epoch 2/10\n",
            "3439/3439 [==============================] - 40s 12ms/step - loss: 0.0431 - accuracy: 0.9859 - val_loss: 0.4538 - val_accuracy: 0.8915\n",
            "Epoch 3/10\n",
            "3439/3439 [==============================] - 39s 11ms/step - loss: 0.0367 - accuracy: 0.9881 - val_loss: 0.9094 - val_accuracy: 0.8710\n",
            "Epoch 4/10\n",
            "3439/3439 [==============================] - 39s 11ms/step - loss: 0.0387 - accuracy: 0.9888 - val_loss: 2.5048 - val_accuracy: 0.7573\n",
            "Epoch 5/10\n",
            "3439/3439 [==============================] - 45s 13ms/step - loss: 0.0465 - accuracy: 0.9882 - val_loss: 0.3265 - val_accuracy: 0.9211\n",
            "Epoch 6/10\n",
            "3439/3439 [==============================] - 39s 11ms/step - loss: 0.0303 - accuracy: 0.9899 - val_loss: 1.0099 - val_accuracy: 0.8338\n",
            "Epoch 7/10\n",
            "3439/3439 [==============================] - 38s 11ms/step - loss: 0.0315 - accuracy: 0.9911 - val_loss: 1.5206 - val_accuracy: 0.8554\n",
            "Epoch 8/10\n",
            "3439/3439 [==============================] - 40s 11ms/step - loss: 0.0375 - accuracy: 0.9898 - val_loss: 3.2539 - val_accuracy: 0.7769\n",
            "Epoch 9/10\n",
            "3439/3439 [==============================] - 43s 12ms/step - loss: 0.0264 - accuracy: 0.9923 - val_loss: 2.8428 - val_accuracy: 0.7942\n",
            "Epoch 10/10\n",
            "3439/3439 [==============================] - 39s 11ms/step - loss: 0.0280 - accuracy: 0.9912 - val_loss: 2.5353 - val_accuracy: 0.8194\n"
          ]
        }
      ],
      "source": [
        "model.compile(optimizer='adam',loss='categorical_crossentropy',metrics='accuracy')\n",
        "history = model.fit(X,Y_categorical,validation_data=(x,y_categorical),batch_size=5,epochs=10)"
      ]
    },
    {
      "cell_type": "code",
      "execution_count": null,
      "metadata": {
        "colab": {
          "base_uri": "https://localhost:8080/",
          "height": 472
        },
        "id": "m2bDG238JgqY",
        "outputId": "fb14884f-d993-4e16-d3f3-c79a54b4003c"
      },
      "outputs": [
        {
          "data": {
            "image/png": "[encoded data removed]",
            "text/plain": [
              "<Figure size 640x480 with 1 Axes>"
            ]
          },
          "metadata": {},
          "output_type": "display_data"
        }
      ],
      "source": [
        "#plotting the loss and validation loss\n",
        "plt.plot(history.history['loss'])\n",
        "plt.plot(history.history['val_loss'])\n",
        "plt.title('Model loss')\n",
        "plt.xlabel('epoch')\n",
        "plt.ylabel('loss')\n",
        "plt.legend(['train','test'],loc='upper left')\n",
        "plt.show()"
      ]
    },
    {
      "cell_type": "code",
      "execution_count": null,
      "metadata": {
        "colab": {
          "base_uri": "https://localhost:8080/",
          "height": 472
        },
        "id": "epHvPUXaQ2hP",
        "outputId": "af940652-01ef-42db-f979-d6bcdbb5d74c"
      },
      "outputs": [
        {
          "data": {
            "image/png": "[encoded data removed]",
            "text/plain": [
              "<Figure size 640x480 with 1 Axes>"
            ]
          },
          "metadata": {},
          "output_type": "display_data"
        }
      ],
      "source": [
        "#plotting the accuracy and validation accuracy\n",
        "plt.plot(history.history['accuracy'])\n",
        "plt.plot(history.history['val_accuracy'])\n",
        "plt.title('Model accuracy')\n",
        "plt.xlabel('epoch')\n",
        "plt.ylabel('accuracy')\n",
        "plt.legend(['train','test'],loc='upper left')\n",
        "plt.show()"
      ]
    },
    {
      "cell_type": "markdown",
      "metadata": {
        "id": "B7TkVK0eRIDH"
      },
      "source": [
        "##The CNN network did'nt give good results it is also overfitting, so we can go for other technique like, Data argumentation ,transfer learning"
      ]
    },
    {
      "cell_type": "markdown",
      "metadata": {
        "id": "k9wjvOFvRkZ6"
      },
      "source": [
        "#Data Argumentation"
      ]
    },
    {
      "cell_type": "code",
      "execution_count": 12,
      "metadata": {
        "id": "ArEYIUXhibFI"
      },
      "outputs": [],
      "source": [
        "#Image datagenerator\n",
        "from keras.preprocessing.image import ImageDataGenerator"
      ]
    },
    {
      "cell_type": "code",
      "execution_count": 15,
      "metadata": {
        "id": "-4H8Ni-fimjN"
      },
      "outputs": [],
      "source": [
        "train_generator=ImageDataGenerator(\n",
        "    rescale=1./255,\n",
        "    zoom_range=0.2,\n",
        "    horizontal_flip=True,\n",
        "    brightness_range=[0.5, 1.2],\n",
        "    rotation_range=30,\n",
        ")"
      ]
    },
    {
      "cell_type": "code",
      "execution_count": 16,
      "metadata": {
        "id": "gGjIolUoi4Nu"
      },
      "outputs": [],
      "source": [
        "test_generator=ImageDataGenerator(\n",
        "    rescale=1./255,\n",
        ")"
      ]
    },
    {
      "cell_type": "code",
      "execution_count": 17,
      "metadata": {
        "colab": {
          "base_uri": "https://localhost:8080/"
        },
        "id": "_8Ah0W7DjFX2",
        "outputId": "8b58e410-71ef-457d-c348-2e78e7383c2e"
      },
      "outputs": [
        {
          "output_type": "stream",
          "name": "stdout",
          "text": [
            "Found 17192 images belonging to 2 classes.\n"
          ]
        }
      ],
      "source": [
        "train_datagen = train_generator.flow_from_directory(\n",
        "    '/content/drive/MyDrive/Dataset/Train',\n",
        "    target_size=(60,60),\n",
        "    batch_size=5,\n",
        "    class_mode='categorical'\n",
        ")"
      ]
    },
    {
      "cell_type": "code",
      "execution_count": 18,
      "metadata": {
        "colab": {
          "base_uri": "https://localhost:8080/"
        },
        "id": "hdaJkHg_jD-j",
        "outputId": "ca6ae84b-ec69-4cda-8b73-96486c6c0171"
      },
      "outputs": [
        {
          "output_type": "stream",
          "name": "stdout",
          "text": [
            "Found 2497 images belonging to 2 classes.\n"
          ]
        }
      ],
      "source": [
        "test_datagen = test_generator.flow_from_directory(\n",
        "    '/content/drive/MyDrive/Dataset/Test',\n",
        "    target_size=(60,60),\n",
        "    batch_size=5,\n",
        "    class_mode='categorical'\n",
        ")"
      ]
    },
    {
      "cell_type": "code",
      "execution_count": 33,
      "metadata": {
        "id": "q3I2008dknMP"
      },
      "outputs": [],
      "source": [
        "#model building\n",
        "model1 = keras.Sequential([\n",
        "    keras.layers.Conv2D(filters=512,kernel_size=(3,3),input_shape=(60,60,3),activation='relu'),\n",
        "    keras.layers.MaxPool2D(pool_size=(2,2)),\n",
        "\n",
        "    keras.layers.Conv2D(256,kernel_size=(3,3),activation='relu'),\n",
        "    keras.layers.MaxPool2D(pool_size=(2,2)),\n",
        "\n",
        "    keras.layers.Conv2D(128,kernel_size=(3,3),activation='relu'),\n",
        "    keras.layers.MaxPool2D(pool_size=(2,2)),\n",
        "\n",
        "\n",
        "\n",
        "    keras.layers.Flatten(),\n",
        "    keras.layers.Dense(512,activation='relu'),\n",
        "    keras.layers.Dropout(0.6),\n",
        "    keras.layers.Dense(256,activation='relu'),\n",
        "    keras.layers.Dropout(0.5),\n",
        "    keras.layers.Dense(128,activation='relu'),\n",
        "    keras.layers.Dropout(0.4),\n",
        "    keras.layers.Dense(2,activation='softmax')\n",
        "\n",
        "])"
      ]
    },
    {
      "cell_type": "markdown",
      "metadata": {
        "id": "oRGHmP8l0wiF"
      },
      "source": [
        "###Visualising the layers\n"
      ]
    },
    {
      "cell_type": "code",
      "execution_count": null,
      "metadata": {
        "colab": {
          "base_uri": "https://localhost:8080/",
          "height": 327
        },
        "id": "c3x8-viQ089-",
        "outputId": "9d9ed13e-f462-464a-9ba2-66dc1df7e786"
      },
      "outputs": [
        {
          "data": {
            "image/png": "[encoded data removed]",
            "text/plain": [
              "<PIL.Image.Image image mode=RGBA size=920x310>"
            ]
          },
          "execution_count": 59,
          "metadata": {},
          "output_type": "execute_result"
        }
      ],
      "source": [
        "import visualkeras\n",
        "visualkeras.layered_view(model1)"
      ]
    },
    {
      "cell_type": "code",
      "execution_count": null,
      "metadata": {
        "colab": {
          "base_uri": "https://localhost:8080/",
          "height": 280
        },
        "id": "wVNF714T1EWl",
        "outputId": "a9486df7-dec5-4014-ad0e-26ace34d1633"
      },
      "outputs": [
        {
          "data": {
            "image/png": "[encoded data removed]",
            "text/plain": [
              "<PIL.Image.Image image mode=RGBA size=878x263>"
            ]
          },
          "execution_count": 60,
          "metadata": {},
          "output_type": "execute_result"
        }
      ],
      "source": [
        "#plotting the layers with name\n",
        "visualkeras.layered_view(model1,legend=True,draw_volume=False)"
      ]
    },
    {
      "cell_type": "code",
      "source": [
        "from tensorflow.keras.callbacks import ModelCheckpoint"
      ],
      "metadata": {
        "id": "tJGU-1Gjrd6h"
      },
      "execution_count": 34,
      "outputs": []
    },
    {
      "cell_type": "code",
      "source": [
        "checkpoint_callback = ModelCheckpoint(filepath='model_checkpoint.h5',save_best_only=True)\n"
      ],
      "metadata": {
        "id": "7MJ9gtd_ryqG"
      },
      "execution_count": 35,
      "outputs": []
    },
    {
      "cell_type": "code",
      "execution_count": 36,
      "metadata": {
        "colab": {
          "base_uri": "https://localhost:8080/"
        },
        "id": "XCB3pt__k0VS",
        "outputId": "f97a99f0-da68-4f59-e436-3fa39e750612"
      },
      "outputs": [
        {
          "output_type": "stream",
          "name": "stdout",
          "text": [
            "Epoch 1/20\n"
          ]
        },
        {
          "output_type": "stream",
          "name": "stderr",
          "text": [
            "<ipython-input-36-8ec80478663d>:2: UserWarning: `Model.fit_generator` is deprecated and will be removed in a future version. Please use `Model.fit`, which supports generators.\n",
            "  history = model1.fit_generator(train_datagen,validation_data=test_datagen,epochs=20,callbacks=[checkpoint_callback])\n"
          ]
        },
        {
          "output_type": "stream",
          "name": "stdout",
          "text": [
            "3439/3439 [==============================] - 87s 25ms/step - loss: 0.3062 - accuracy: 0.8631 - val_loss: 0.3868 - val_accuracy: 0.8763\n",
            "Epoch 2/20\n"
          ]
        },
        {
          "output_type": "stream",
          "name": "stderr",
          "text": [
            "/usr/local/lib/python3.10/dist-packages/keras/src/engine/training.py:3103: UserWarning: You are saving your model as an HDF5 file via `model.save()`. This file format is considered legacy. We recommend using instead the native Keras format, e.g. `model.save('my_model.keras')`.\n",
            "  saving_api.save_model(\n"
          ]
        },
        {
          "output_type": "stream",
          "name": "stdout",
          "text": [
            "3439/3439 [==============================] - 81s 24ms/step - loss: 0.1893 - accuracy: 0.9312 - val_loss: 0.5572 - val_accuracy: 0.8502\n",
            "Epoch 3/20\n",
            "3439/3439 [==============================] - 86s 25ms/step - loss: 0.1724 - accuracy: 0.9386 - val_loss: 0.5381 - val_accuracy: 0.8378\n",
            "Epoch 4/20\n",
            "3439/3439 [==============================] - 81s 24ms/step - loss: 0.1711 - accuracy: 0.9414 - val_loss: 0.1215 - val_accuracy: 0.9511\n",
            "Epoch 5/20\n",
            "3439/3439 [==============================] - 81s 23ms/step - loss: 0.1816 - accuracy: 0.9432 - val_loss: 0.2684 - val_accuracy: 0.9195\n",
            "Epoch 6/20\n",
            "3439/3439 [==============================] - 81s 24ms/step - loss: 0.1487 - accuracy: 0.9472 - val_loss: 0.1121 - val_accuracy: 0.9700\n",
            "Epoch 7/20\n",
            "3439/3439 [==============================] - 112s 33ms/step - loss: 0.1438 - accuracy: 0.9511 - val_loss: 0.3320 - val_accuracy: 0.9151\n",
            "Epoch 8/20\n",
            "3439/3439 [==============================] - 81s 23ms/step - loss: 0.1440 - accuracy: 0.9515 - val_loss: 0.1587 - val_accuracy: 0.9535\n",
            "Epoch 9/20\n",
            "3439/3439 [==============================] - 80s 23ms/step - loss: 0.1422 - accuracy: 0.9512 - val_loss: 0.2694 - val_accuracy: 0.9335\n",
            "Epoch 10/20\n",
            "3439/3439 [==============================] - 82s 24ms/step - loss: 0.1288 - accuracy: 0.9558 - val_loss: 0.2467 - val_accuracy: 0.9455\n",
            "Epoch 11/20\n",
            "3439/3439 [==============================] - 85s 25ms/step - loss: 0.1326 - accuracy: 0.9542 - val_loss: 0.1770 - val_accuracy: 0.9555\n",
            "Epoch 12/20\n",
            "3439/3439 [==============================] - 80s 23ms/step - loss: 0.1427 - accuracy: 0.9564 - val_loss: 0.1154 - val_accuracy: 0.9588\n",
            "Epoch 13/20\n",
            "3439/3439 [==============================] - 80s 23ms/step - loss: 0.4957 - accuracy: 0.7071 - val_loss: 0.1727 - val_accuracy: 0.9387\n",
            "Epoch 14/20\n",
            "3439/3439 [==============================] - 80s 23ms/step - loss: 0.1412 - accuracy: 0.9524 - val_loss: 0.1082 - val_accuracy: 0.9604\n",
            "Epoch 15/20\n",
            "3439/3439 [==============================] - 80s 23ms/step - loss: 0.1341 - accuracy: 0.9557 - val_loss: 0.4018 - val_accuracy: 0.9147\n",
            "Epoch 16/20\n",
            "3439/3439 [==============================] - 111s 32ms/step - loss: 0.1435 - accuracy: 0.9527 - val_loss: 0.5627 - val_accuracy: 0.8919\n",
            "Epoch 17/20\n",
            "3439/3439 [==============================] - 85s 25ms/step - loss: 0.1135 - accuracy: 0.9629 - val_loss: 0.4007 - val_accuracy: 0.9059\n",
            "Epoch 18/20\n",
            "3439/3439 [==============================] - 80s 23ms/step - loss: 0.1138 - accuracy: 0.9604 - val_loss: 0.1978 - val_accuracy: 0.9539\n",
            "Epoch 19/20\n",
            "3439/3439 [==============================] - 80s 23ms/step - loss: 0.1222 - accuracy: 0.9596 - val_loss: 0.2150 - val_accuracy: 0.9295\n",
            "Epoch 20/20\n",
            "3439/3439 [==============================] - 80s 23ms/step - loss: 0.1187 - accuracy: 0.9616 - val_loss: 0.1743 - val_accuracy: 0.9567\n"
          ]
        }
      ],
      "source": [
        "model1.compile(optimizer='adam',loss='categorical_crossentropy',metrics='accuracy')\n",
        "history = model1.fit_generator(train_datagen,validation_data=test_datagen,epochs=20,callbacks=[checkpoint_callback])"
      ]
    },
    {
      "cell_type": "code",
      "source": [
        "from matplotlib import pyplot as plt"
      ],
      "metadata": {
        "id": "o07gYMRnpnjg"
      },
      "execution_count": 39,
      "outputs": []
    },
    {
      "cell_type": "code",
      "execution_count": 40,
      "metadata": {
        "colab": {
          "base_uri": "https://localhost:8080/",
          "height": 472
        },
        "outputId": "ee3481de-8e1e-4e88-da4d-74418b7afa1d",
        "id": "JRlnkQmupoB-"
      },
      "outputs": [
        {
          "output_type": "display_data",
          "data": {
            "text/plain": [
              "<Figure size 640x480 with 1 Axes>"
            ],
            "image/png": "[encoded data removed]"
          },
          "metadata": {}
        }
      ],
      "source": [
        "#plotting the loss and validation loss\n",
        "plt.plot(history.history['loss'])\n",
        "plt.plot(history.history['val_loss'])\n",
        "plt.title('Model loss')\n",
        "plt.xlabel('epoch')\n",
        "plt.ylabel('loss')\n",
        "plt.legend(['train','test'],loc='upper left')\n",
        "plt.show()"
      ]
    },
    {
      "cell_type": "code",
      "execution_count": 41,
      "metadata": {
        "colab": {
          "base_uri": "https://localhost:8080/",
          "height": 472
        },
        "outputId": "eeba581b-308e-4ba4-9021-362416e10141",
        "id": "mBRiCmBkpuOJ"
      },
      "outputs": [
        {
          "output_type": "display_data",
          "data": {
            "text/plain": [
              "<Figure size 640x480 with 1 Axes>"
            ],
            "image/png": "[encoded data removed]"
          },
          "metadata": {}
        }
      ],
      "source": [
        "#plotting the accuracy and validation accuracy\n",
        "plt.plot(history.history['accuracy'])\n",
        "plt.plot(history.history['val_accuracy'])\n",
        "plt.title('Model accuracy')\n",
        "plt.xlabel('epoch')\n",
        "plt.ylabel('accuracy')\n",
        "plt.legend(['train','test'],loc='upper left')\n",
        "plt.show()"
      ]
    },
    {
      "cell_type": "markdown",
      "metadata": {
        "id": "KyVEIpmMSi_L"
      },
      "source": [
        "#Transfer Learning\n"
      ]
    },
    {
      "cell_type": "markdown",
      "metadata": {
        "id": "obcb8g-wSoqZ"
      },
      "source": [
        "##VGG16 model"
      ]
    },
    {
      "cell_type": "code",
      "execution_count": null,
      "metadata": {
        "id": "huU22K1iLjPq"
      },
      "outputs": [],
      "source": [
        "#importing the VGG16 model\n",
        "from keras.applications.vgg16 import VGG16\n"
      ]
    },
    {
      "cell_type": "code",
      "execution_count": null,
      "metadata": {
        "colab": {
          "base_uri": "https://localhost:8080/"
        },
        "id": "AYYHOB5GL3jL",
        "outputId": "0a0563d5-4704-4e32-d53e-cf29e852b4dd"
      },
      "outputs": [
        {
          "name": "stdout",
          "output_type": "stream",
          "text": [
            "Downloading data from https://storage.googleapis.com/tensorflow/keras-applications/vgg16/vgg16_weights_tf_dim_ordering_tf_kernels_notop.h5\n",
            "58889256/58889256 [==============================] - 0s 0us/step\n"
          ]
        }
      ],
      "source": [
        "conv_base = VGG16(\n",
        "    weights='imagenet',\n",
        "    include_top=False,\n",
        "    input_shape=(60,60,3)\n",
        ")\n",
        "#only importing the CNN layers not the ANN."
      ]
    },
    {
      "cell_type": "code",
      "execution_count": null,
      "metadata": {
        "colab": {
          "base_uri": "https://localhost:8080/"
        },
        "id": "97U8LQWTTO31",
        "outputId": "3deab9e2-0277-441c-da7f-e31fd7efa6a3"
      },
      "outputs": [
        {
          "name": "stdout",
          "output_type": "stream",
          "text": [
            "Model: \"vgg16\"\n",
            "_________________________________________________________________\n",
            " Layer (type)                Output Shape              Param #   \n",
            "=================================================================\n",
            " input_1 (InputLayer)        [(None, 60, 60, 3)]       0         \n",
            "                                                                 \n",
            " block1_conv1 (Conv2D)       (None, 60, 60, 64)        1792      \n",
            "                                                                 \n",
            " block1_conv2 (Conv2D)       (None, 60, 60, 64)        36928     \n",
            "                                                                 \n",
            " block1_pool (MaxPooling2D)  (None, 30, 30, 64)        0         \n",
            "                                                                 \n",
            " block2_conv1 (Conv2D)       (None, 30, 30, 128)       73856     \n",
            "                                                                 \n",
            " block2_conv2 (Conv2D)       (None, 30, 30, 128)       147584    \n",
            "                                                                 \n",
            " block2_pool (MaxPooling2D)  (None, 15, 15, 128)       0         \n",
            "                                                                 \n",
            " block3_conv1 (Conv2D)       (None, 15, 15, 256)       295168    \n",
            "                                                                 \n",
            " block3_conv2 (Conv2D)       (None, 15, 15, 256)       590080    \n",
            "                                                                 \n",
            " block3_conv3 (Conv2D)       (None, 15, 15, 256)       590080    \n",
            "                                                                 \n",
            " block3_pool (MaxPooling2D)  (None, 7, 7, 256)         0         \n",
            "                                                                 \n",
            " block4_conv1 (Conv2D)       (None, 7, 7, 512)         1180160   \n",
            "                                                                 \n",
            " block4_conv2 (Conv2D)       (None, 7, 7, 512)         2359808   \n",
            "                                                                 \n",
            " block4_conv3 (Conv2D)       (None, 7, 7, 512)         2359808   \n",
            "                                                                 \n",
            " block4_pool (MaxPooling2D)  (None, 3, 3, 512)         0         \n",
            "                                                                 \n",
            " block5_conv1 (Conv2D)       (None, 3, 3, 512)         2359808   \n",
            "                                                                 \n",
            " block5_conv2 (Conv2D)       (None, 3, 3, 512)         2359808   \n",
            "                                                                 \n",
            " block5_conv3 (Conv2D)       (None, 3, 3, 512)         2359808   \n",
            "                                                                 \n",
            " block5_pool (MaxPooling2D)  (None, 1, 1, 512)         0         \n",
            "                                                                 \n",
            "=================================================================\n",
            "Total params: 14714688 (56.13 MB)\n",
            "Trainable params: 14714688 (56.13 MB)\n",
            "Non-trainable params: 0 (0.00 Byte)\n",
            "_________________________________________________________________\n"
          ]
        }
      ],
      "source": [
        "conv_base.summary()"
      ]
    },
    {
      "cell_type": "code",
      "execution_count": null,
      "metadata": {
        "id": "-mXy-zF8Mqjc"
      },
      "outputs": [],
      "source": [
        "#Building the dense layer and adding the conv_base\n",
        "model2 = keras.Sequential([\n",
        "    conv_base,\n",
        "    keras.layers.Flatten(),\n",
        "    keras.layers.Dense(512,activation='relu'),\n",
        "    keras.layers.Dropout(0.4),\n",
        "    keras.layers.Dense(300,activation='relu'),\n",
        "    keras.layers.Dropout(0.3),\n",
        "    keras.layers.Dense(2,activation='softmax'),\n",
        "\n",
        "])"
      ]
    },
    {
      "cell_type": "code",
      "execution_count": null,
      "metadata": {
        "id": "XHWgGmsdTjuZ"
      },
      "outputs": [],
      "source": [
        "conv_base.trainable=False\n",
        "#not train the CNN layers only train the Dense/Ann layers"
      ]
    },
    {
      "cell_type": "code",
      "execution_count": null,
      "metadata": {
        "colab": {
          "base_uri": "https://localhost:8080/"
        },
        "id": "hbi6JZxOUD3q",
        "outputId": "6e6b4da4-a4ab-4bd9-c893-0e53440e0e64"
      },
      "outputs": [
        {
          "name": "stdout",
          "output_type": "stream",
          "text": [
            "Epoch 1/6\n"
          ]
        },
        {
          "name": "stderr",
          "output_type": "stream",
          "text": [
            "<ipython-input-45-d13037fbb397>:2: UserWarning: `Model.fit_generator` is deprecated and will be removed in a future version. Please use `Model.fit`, which supports generators.\n",
            "  history2 = model2.fit_generator(train_datagen,validation_data=test_datagen,epochs=6)\n"
          ]
        },
        {
          "name": "stdout",
          "output_type": "stream",
          "text": [
            "3439/3439 [==============================] - 84s 24ms/step - loss: 0.2943 - accuracy: 0.8778 - val_loss: 0.9444 - val_accuracy: 0.5947\n",
            "Epoch 2/6\n",
            "3439/3439 [==============================] - 79s 23ms/step - loss: 0.2255 - accuracy: 0.9133 - val_loss: 1.8826 - val_accuracy: 0.5114\n",
            "Epoch 3/6\n",
            "3439/3439 [==============================] - 82s 24ms/step - loss: 0.2098 - accuracy: 0.9223 - val_loss: 2.1804 - val_accuracy: 0.5134\n",
            "Epoch 4/6\n",
            "3439/3439 [==============================] - 81s 24ms/step - loss: 0.2000 - accuracy: 0.9268 - val_loss: 1.0499 - val_accuracy: 0.6444\n",
            "Epoch 5/6\n",
            "3439/3439 [==============================] - 80s 23ms/step - loss: 0.1961 - accuracy: 0.9289 - val_loss: 1.4838 - val_accuracy: 0.5571\n",
            "Epoch 6/6\n",
            "3439/3439 [==============================] - 80s 23ms/step - loss: 0.1847 - accuracy: 0.9329 - val_loss: 1.8158 - val_accuracy: 0.5763\n"
          ]
        }
      ],
      "source": [
        "model2.compile(optimizer='adam',loss='categorical_crossentropy',metrics='accuracy')\n",
        "history2 = model2.fit_generator(train_datagen,validation_data=test_datagen,epochs=6)"
      ]
    },
    {
      "cell_type": "markdown",
      "metadata": {
        "id": "PeYQ2VwOUdYg"
      },
      "source": [
        "##VGG19 model"
      ]
    },
    {
      "cell_type": "code",
      "execution_count": null,
      "metadata": {
        "id": "Ug4Ar6pJUxkB"
      },
      "outputs": [],
      "source": [
        "from keras.applications.vgg19 import VGG19"
      ]
    },
    {
      "cell_type": "code",
      "execution_count": null,
      "metadata": {
        "colab": {
          "base_uri": "https://localhost:8080/"
        },
        "id": "jE46SXTqUZve",
        "outputId": "5f3daebe-ed92-41eb-bed9-45d7de48ac7e"
      },
      "outputs": [
        {
          "name": "stdout",
          "output_type": "stream",
          "text": [
            "Downloading data from https://storage.googleapis.com/tensorflow/keras-applications/vgg19/vgg19_weights_tf_dim_ordering_tf_kernels_notop.h5\n",
            "80134624/80134624 [==============================] - 1s 0us/step\n"
          ]
        }
      ],
      "source": [
        "conv_base1 = VGG19(\n",
        "    weights='imagenet',\n",
        "    include_top=False,\n",
        "    input_shape=(60,60,3)\n",
        ")"
      ]
    },
    {
      "cell_type": "code",
      "execution_count": null,
      "metadata": {
        "colab": {
          "base_uri": "https://localhost:8080/"
        },
        "id": "d-8aePImVPOG",
        "outputId": "5939b7cf-57f3-49ce-c4d6-7341f009eba8"
      },
      "outputs": [
        {
          "name": "stdout",
          "output_type": "stream",
          "text": [
            "Model: \"vgg19\"\n",
            "_________________________________________________________________\n",
            " Layer (type)                Output Shape              Param #   \n",
            "=================================================================\n",
            " input_2 (InputLayer)        [(None, 60, 60, 3)]       0         \n",
            "                                                                 \n",
            " block1_conv1 (Conv2D)       (None, 60, 60, 64)        1792      \n",
            "                                                                 \n",
            " block1_conv2 (Conv2D)       (None, 60, 60, 64)        36928     \n",
            "                                                                 \n",
            " block1_pool (MaxPooling2D)  (None, 30, 30, 64)        0         \n",
            "                                                                 \n",
            " block2_conv1 (Conv2D)       (None, 30, 30, 128)       73856     \n",
            "                                                                 \n",
            " block2_conv2 (Conv2D)       (None, 30, 30, 128)       147584    \n",
            "                                                                 \n",
            " block2_pool (MaxPooling2D)  (None, 15, 15, 128)       0         \n",
            "                                                                 \n",
            " block3_conv1 (Conv2D)       (None, 15, 15, 256)       295168    \n",
            "                                                                 \n",
            " block3_conv2 (Conv2D)       (None, 15, 15, 256)       590080    \n",
            "                                                                 \n",
            " block3_conv3 (Conv2D)       (None, 15, 15, 256)       590080    \n",
            "                                                                 \n",
            " block3_conv4 (Conv2D)       (None, 15, 15, 256)       590080    \n",
            "                                                                 \n",
            " block3_pool (MaxPooling2D)  (None, 7, 7, 256)         0         \n",
            "                                                                 \n",
            " block4_conv1 (Conv2D)       (None, 7, 7, 512)         1180160   \n",
            "                                                                 \n",
            " block4_conv2 (Conv2D)       (None, 7, 7, 512)         2359808   \n",
            "                                                                 \n",
            " block4_conv3 (Conv2D)       (None, 7, 7, 512)         2359808   \n",
            "                                                                 \n",
            " block4_conv4 (Conv2D)       (None, 7, 7, 512)         2359808   \n",
            "                                                                 \n",
            " block4_pool (MaxPooling2D)  (None, 3, 3, 512)         0         \n",
            "                                                                 \n",
            " block5_conv1 (Conv2D)       (None, 3, 3, 512)         2359808   \n",
            "                                                                 \n",
            " block5_conv2 (Conv2D)       (None, 3, 3, 512)         2359808   \n",
            "                                                                 \n",
            " block5_conv3 (Conv2D)       (None, 3, 3, 512)         2359808   \n",
            "                                                                 \n",
            " block5_conv4 (Conv2D)       (None, 3, 3, 512)         2359808   \n",
            "                                                                 \n",
            " block5_pool (MaxPooling2D)  (None, 1, 1, 512)         0         \n",
            "                                                                 \n",
            "=================================================================\n",
            "Total params: 20024384 (76.39 MB)\n",
            "Trainable params: 20024384 (76.39 MB)\n",
            "Non-trainable params: 0 (0.00 Byte)\n",
            "_________________________________________________________________\n"
          ]
        }
      ],
      "source": [
        "conv_base1.summary()"
      ]
    },
    {
      "cell_type": "code",
      "execution_count": null,
      "metadata": {
        "id": "vKZru37yVEgT"
      },
      "outputs": [],
      "source": [
        "model3 = keras.Sequential([\n",
        "    conv_base1,\n",
        "    keras.layers.Flatten(),\n",
        "    keras.layers.Dense(512,activation='relu'),\n",
        "    keras.layers.Dropout(0.4),\n",
        "    keras.layers.Dense(300,activation='relu'),\n",
        "    keras.layers.Dropout(0.3),\n",
        "    keras.layers.Dense(2,activation='softmax'),\n",
        "\n",
        "])"
      ]
    },
    {
      "cell_type": "code",
      "execution_count": null,
      "metadata": {
        "id": "RV0f1_6nU9G7"
      },
      "outputs": [],
      "source": [
        "conv_base1.trainable=False"
      ]
    },
    {
      "cell_type": "code",
      "execution_count": null,
      "metadata": {
        "colab": {
          "base_uri": "https://localhost:8080/"
        },
        "id": "P0kjZAhjVVkk",
        "outputId": "5a9bf9a1-cadf-4ec3-e941-aa4e92b5a8b1"
      },
      "outputs": [
        {
          "name": "stdout",
          "output_type": "stream",
          "text": [
            "Epoch 1/6\n"
          ]
        },
        {
          "name": "stderr",
          "output_type": "stream",
          "text": [
            "<ipython-input-52-d27fa91972ba>:2: UserWarning: `Model.fit_generator` is deprecated and will be removed in a future version. Please use `Model.fit`, which supports generators.\n",
            "  history3 = model3.fit_generator(train_datagen,validation_data=test_datagen,epochs=6)\n"
          ]
        },
        {
          "name": "stdout",
          "output_type": "stream",
          "text": [
            "3439/3439 [==============================] - 84s 24ms/step - loss: 0.3320 - accuracy: 0.8591 - val_loss: 1.5052 - val_accuracy: 0.5066\n",
            "Epoch 2/6\n",
            "3439/3439 [==============================] - 85s 25ms/step - loss: 0.2668 - accuracy: 0.8915 - val_loss: 1.3612 - val_accuracy: 0.5495\n",
            "Epoch 3/6\n",
            "3439/3439 [==============================] - 85s 25ms/step - loss: 0.2477 - accuracy: 0.9027 - val_loss: 1.8229 - val_accuracy: 0.5074\n",
            "Epoch 4/6\n",
            "3439/3439 [==============================] - 80s 23ms/step - loss: 0.2367 - accuracy: 0.9068 - val_loss: 1.4099 - val_accuracy: 0.5178\n",
            "Epoch 5/6\n",
            "3439/3439 [==============================] - 85s 25ms/step - loss: 0.2228 - accuracy: 0.9117 - val_loss: 0.8881 - val_accuracy: 0.5911\n",
            "Epoch 6/6\n",
            "3439/3439 [==============================] - 81s 23ms/step - loss: 0.2209 - accuracy: 0.9163 - val_loss: 1.5387 - val_accuracy: 0.5234\n"
          ]
        }
      ],
      "source": [
        "model3.compile(optimizer='adam',loss='categorical_crossentropy',metrics='accuracy')\n",
        "history3 = model3.fit_generator(train_datagen,validation_data=test_datagen,epochs=6)"
      ]
    },
    {
      "cell_type": "markdown",
      "metadata": {
        "id": "Hyu26dh6Vte6"
      },
      "source": [
        "#ResNet50\n"
      ]
    },
    {
      "cell_type": "code",
      "execution_count": null,
      "metadata": {
        "id": "EhVi9TjmVzq9"
      },
      "outputs": [],
      "source": [
        "from keras.applications.resnet50 import ResNet50"
      ]
    },
    {
      "cell_type": "code",
      "execution_count": null,
      "metadata": {
        "colab": {
          "base_uri": "https://localhost:8080/"
        },
        "id": "S2V-4SYxWEe1",
        "outputId": "9fc6dc94-2882-4495-8b24-12b3fc44f356"
      },
      "outputs": [
        {
          "name": "stdout",
          "output_type": "stream",
          "text": [
            "Downloading data from https://storage.googleapis.com/tensorflow/keras-applications/resnet/resnet50_weights_tf_dim_ordering_tf_kernels_notop.h5\n",
            "94765736/94765736 [==============================] - 0s 0us/step\n"
          ]
        }
      ],
      "source": [
        "conv_base2 = ResNet50(\n",
        "    weights='imagenet',\n",
        "    include_top=False,\n",
        "    input_shape=(60,60,3)\n",
        ")"
      ]
    },
    {
      "cell_type": "code",
      "execution_count": null,
      "metadata": {
        "colab": {
          "base_uri": "https://localhost:8080/"
        },
        "id": "bx39CgS_WNEO",
        "outputId": "addb2779-f66c-4b23-d6db-dfa95b2dd192"
      },
      "outputs": [
        {
          "name": "stdout",
          "output_type": "stream",
          "text": [
            "Model: \"resnet50\"\n",
            "__________________________________________________________________________________________________\n",
            " Layer (type)                Output Shape                 Param #   Connected to                  \n",
            "==================================================================================================\n",
            " input_3 (InputLayer)        [(None, 60, 60, 3)]          0         []                            \n",
            "                                                                                                  \n",
            " conv1_pad (ZeroPadding2D)   (None, 66, 66, 3)            0         ['input_3[0][0]']             \n",
            "                                                                                                  \n",
            " conv1_conv (Conv2D)         (None, 30, 30, 64)           9472      ['conv1_pad[0][0]']           \n",
            "                                                                                                  \n",
            " conv1_bn (BatchNormalizati  (None, 30, 30, 64)           256       ['conv1_conv[0][0]']          \n",
            " on)                                                                                              \n",
            "                                                                                                  \n",
            " conv1_relu (Activation)     (None, 30, 30, 64)           0         ['conv1_bn[0][0]']            \n",
            "                                                                                                  \n",
            " pool1_pad (ZeroPadding2D)   (None, 32, 32, 64)           0         ['conv1_relu[0][0]']          \n",
            "                                                                                                  \n",
            " pool1_pool (MaxPooling2D)   (None, 15, 15, 64)           0         ['pool1_pad[0][0]']           \n",
            "                                                                                                  \n",
            " conv2_block1_1_conv (Conv2  (None, 15, 15, 64)           4160      ['pool1_pool[0][0]']          \n",
            " D)                                                                                               \n",
            "                                                                                                  \n",
            " conv2_block1_1_bn (BatchNo  (None, 15, 15, 64)           256       ['conv2_block1_1_conv[0][0]'] \n",
            " rmalization)                                                                                     \n",
            "                                                                                                  \n",
            " conv2_block1_1_relu (Activ  (None, 15, 15, 64)           0         ['conv2_block1_1_bn[0][0]']   \n",
            " ation)                                                                                           \n",
            "                                                                                                  \n",
            " conv2_block1_2_conv (Conv2  (None, 15, 15, 64)           36928     ['conv2_block1_1_relu[0][0]'] \n",
            " D)                                                                                               \n",
            "                                                                                                  \n",
            " conv2_block1_2_bn (BatchNo  (None, 15, 15, 64)           256       ['conv2_block1_2_conv[0][0]'] \n",
            " rmalization)                                                                                     \n",
            "                                                                                                  \n",
            " conv2_block1_2_relu (Activ  (None, 15, 15, 64)           0         ['conv2_block1_2_bn[0][0]']   \n",
            " ation)                                                                                           \n",
            "                                                                                                  \n",
            " conv2_block1_0_conv (Conv2  (None, 15, 15, 256)          16640     ['pool1_pool[0][0]']          \n",
            " D)                                                                                               \n",
            "                                                                                                  \n",
            " conv2_block1_3_conv (Conv2  (None, 15, 15, 256)          16640     ['conv2_block1_2_relu[0][0]'] \n",
            " D)                                                                                               \n",
            "                                                                                                  \n",
            " conv2_block1_0_bn (BatchNo  (None, 15, 15, 256)          1024      ['conv2_block1_0_conv[0][0]'] \n",
            " rmalization)                                                                                     \n",
            "                                                                                                  \n",
            " conv2_block1_3_bn (BatchNo  (None, 15, 15, 256)          1024      ['conv2_block1_3_conv[0][0]'] \n",
            " rmalization)                                                                                     \n",
            "                                                                                                  \n",
            " conv2_block1_add (Add)      (None, 15, 15, 256)          0         ['conv2_block1_0_bn[0][0]',   \n",
            "                                                                     'conv2_block1_3_bn[0][0]']   \n",
            "                                                                                                  \n",
            " conv2_block1_out (Activati  (None, 15, 15, 256)          0         ['conv2_block1_add[0][0]']    \n",
            " on)                                                                                              \n",
            "                                                                                                  \n",
            " conv2_block2_1_conv (Conv2  (None, 15, 15, 64)           16448     ['conv2_block1_out[0][0]']    \n",
            " D)                                                                                               \n",
            "                                                                                                  \n",
            " conv2_block2_1_bn (BatchNo  (None, 15, 15, 64)           256       ['conv2_block2_1_conv[0][0]'] \n",
            " rmalization)                                                                                     \n",
            "                                                                                                  \n",
            " conv2_block2_1_relu (Activ  (None, 15, 15, 64)           0         ['conv2_block2_1_bn[0][0]']   \n",
            " ation)                                                                                           \n",
            "                                                                                                  \n",
            " conv2_block2_2_conv (Conv2  (None, 15, 15, 64)           36928     ['conv2_block2_1_relu[0][0]'] \n",
            " D)                                                                                               \n",
            "                                                                                                  \n",
            " conv2_block2_2_bn (BatchNo  (None, 15, 15, 64)           256       ['conv2_block2_2_conv[0][0]'] \n",
            " rmalization)                                                                                     \n",
            "                                                                                                  \n",
            " conv2_block2_2_relu (Activ  (None, 15, 15, 64)           0         ['conv2_block2_2_bn[0][0]']   \n",
            " ation)                                                                                           \n",
            "                                                                                                  \n",
            " conv2_block2_3_conv (Conv2  (None, 15, 15, 256)          16640     ['conv2_block2_2_relu[0][0]'] \n",
            " D)                                                                                               \n",
            "                                                                                                  \n",
            " conv2_block2_3_bn (BatchNo  (None, 15, 15, 256)          1024      ['conv2_block2_3_conv[0][0]'] \n",
            " rmalization)                                                                                     \n",
            "                                                                                                  \n",
            " conv2_block2_add (Add)      (None, 15, 15, 256)          0         ['conv2_block1_out[0][0]',    \n",
            "                                                                     'conv2_block2_3_bn[0][0]']   \n",
            "                                                                                                  \n",
            " conv2_block2_out (Activati  (None, 15, 15, 256)          0         ['conv2_block2_add[0][0]']    \n",
            " on)                                                                                              \n",
            "                                                                                                  \n",
            " conv2_block3_1_conv (Conv2  (None, 15, 15, 64)           16448     ['conv2_block2_out[0][0]']    \n",
            " D)                                                                                               \n",
            "                                                                                                  \n",
            " conv2_block3_1_bn (BatchNo  (None, 15, 15, 64)           256       ['conv2_block3_1_conv[0][0]'] \n",
            " rmalization)                                                                                     \n",
            "                                                                                                  \n",
            " conv2_block3_1_relu (Activ  (None, 15, 15, 64)           0         ['conv2_block3_1_bn[0][0]']   \n",
            " ation)                                                                                           \n",
            "                                                                                                  \n",
            " conv2_block3_2_conv (Conv2  (None, 15, 15, 64)           36928     ['conv2_block3_1_relu[0][0]'] \n",
            " D)                                                                                               \n",
            "                                                                                                  \n",
            " conv2_block3_2_bn (BatchNo  (None, 15, 15, 64)           256       ['conv2_block3_2_conv[0][0]'] \n",
            " rmalization)                                                                                     \n",
            "                                                                                                  \n",
            " conv2_block3_2_relu (Activ  (None, 15, 15, 64)           0         ['conv2_block3_2_bn[0][0]']   \n",
            " ation)                                                                                           \n",
            "                                                                                                  \n",
            " conv2_block3_3_conv (Conv2  (None, 15, 15, 256)          16640     ['conv2_block3_2_relu[0][0]'] \n",
            " D)                                                                                               \n",
            "                                                                                                  \n",
            " conv2_block3_3_bn (BatchNo  (None, 15, 15, 256)          1024      ['conv2_block3_3_conv[0][0]'] \n",
            " rmalization)                                                                                     \n",
            "                                                                                                  \n",
            " conv2_block3_add (Add)      (None, 15, 15, 256)          0         ['conv2_block2_out[0][0]',    \n",
            "                                                                     'conv2_block3_3_bn[0][0]']   \n",
            "                                                                                                  \n",
            " conv2_block3_out (Activati  (None, 15, 15, 256)          0         ['conv2_block3_add[0][0]']    \n",
            " on)                                                                                              \n",
            "                                                                                                  \n",
            " conv3_block1_1_conv (Conv2  (None, 8, 8, 128)            32896     ['conv2_block3_out[0][0]']    \n",
            " D)                                                                                               \n",
            "                                                                                                  \n",
            " conv3_block1_1_bn (BatchNo  (None, 8, 8, 128)            512       ['conv3_block1_1_conv[0][0]'] \n",
            " rmalization)                                                                                     \n",
            "                                                                                                  \n",
            " conv3_block1_1_relu (Activ  (None, 8, 8, 128)            0         ['conv3_block1_1_bn[0][0]']   \n",
            " ation)                                                                                           \n",
            "                                                                                                  \n",
            " conv3_block1_2_conv (Conv2  (None, 8, 8, 128)            147584    ['conv3_block1_1_relu[0][0]'] \n",
            " D)                                                                                               \n",
            "                                                                                                  \n",
            " conv3_block1_2_bn (BatchNo  (None, 8, 8, 128)            512       ['conv3_block1_2_conv[0][0]'] \n",
            " rmalization)                                                                                     \n",
            "                                                                                                  \n",
            " conv3_block1_2_relu (Activ  (None, 8, 8, 128)            0         ['conv3_block1_2_bn[0][0]']   \n",
            " ation)                                                                                           \n",
            "                                                                                                  \n",
            " conv3_block1_0_conv (Conv2  (None, 8, 8, 512)            131584    ['conv2_block3_out[0][0]']    \n",
            " D)                                                                                               \n",
            "                                                                                                  \n",
            " conv3_block1_3_conv (Conv2  (None, 8, 8, 512)            66048     ['conv3_block1_2_relu[0][0]'] \n",
            " D)                                                                                               \n",
            "                                                                                                  \n",
            " conv3_block1_0_bn (BatchNo  (None, 8, 8, 512)            2048      ['conv3_block1_0_conv[0][0]'] \n",
            " rmalization)                                                                                     \n",
            "                                                                                                  \n",
            " conv3_block1_3_bn (BatchNo  (None, 8, 8, 512)            2048      ['conv3_block1_3_conv[0][0]'] \n",
            " rmalization)                                                                                     \n",
            "                                                                                                  \n",
            " conv3_block1_add (Add)      (None, 8, 8, 512)            0         ['conv3_block1_0_bn[0][0]',   \n",
            "                                                                     'conv3_block1_3_bn[0][0]']   \n",
            "                                                                                                  \n",
            " conv3_block1_out (Activati  (None, 8, 8, 512)            0         ['conv3_block1_add[0][0]']    \n",
            " on)                                                                                              \n",
            "                                                                                                  \n",
            " conv3_block2_1_conv (Conv2  (None, 8, 8, 128)            65664     ['conv3_block1_out[0][0]']    \n",
            " D)                                                                                               \n",
            "                                                                                                  \n",
            " conv3_block2_1_bn (BatchNo  (None, 8, 8, 128)            512       ['conv3_block2_1_conv[0][0]'] \n",
            " rmalization)                                                                                     \n",
            "                                                                                                  \n",
            " conv3_block2_1_relu (Activ  (None, 8, 8, 128)            0         ['conv3_block2_1_bn[0][0]']   \n",
            " ation)                                                                                           \n",
            "                                                                                                  \n",
            " conv3_block2_2_conv (Conv2  (None, 8, 8, 128)            147584    ['conv3_block2_1_relu[0][0]'] \n",
            " D)                                                                                               \n",
            "                                                                                                  \n",
            " conv3_block2_2_bn (BatchNo  (None, 8, 8, 128)            512       ['conv3_block2_2_conv[0][0]'] \n",
            " rmalization)                                                                                     \n",
            "                                                                                                  \n",
            " conv3_block2_2_relu (Activ  (None, 8, 8, 128)            0         ['conv3_block2_2_bn[0][0]']   \n",
            " ation)                                                                                           \n",
            "                                                                                                  \n",
            " conv3_block2_3_conv (Conv2  (None, 8, 8, 512)            66048     ['conv3_block2_2_relu[0][0]'] \n",
            " D)                                                                                               \n",
            "                                                                                                  \n",
            " conv3_block2_3_bn (BatchNo  (None, 8, 8, 512)            2048      ['conv3_block2_3_conv[0][0]'] \n",
            " rmalization)                                                                                     \n",
            "                                                                                                  \n",
            " conv3_block2_add (Add)      (None, 8, 8, 512)            0         ['conv3_block1_out[0][0]',    \n",
            "                                                                     'conv3_block2_3_bn[0][0]']   \n",
            "                                                                                                  \n",
            " conv3_block2_out (Activati  (None, 8, 8, 512)            0         ['conv3_block2_add[0][0]']    \n",
            " on)                                                                                              \n",
            "                                                                                                  \n",
            " conv3_block3_1_conv (Conv2  (None, 8, 8, 128)            65664     ['conv3_block2_out[0][0]']    \n",
            " D)                                                                                               \n",
            "                                                                                                  \n",
            " conv3_block3_1_bn (BatchNo  (None, 8, 8, 128)            512       ['conv3_block3_1_conv[0][0]'] \n",
            " rmalization)                                                                                     \n",
            "                                                                                                  \n",
            " conv3_block3_1_relu (Activ  (None, 8, 8, 128)            0         ['conv3_block3_1_bn[0][0]']   \n",
            " ation)                                                                                           \n",
            "                                                                                                  \n",
            " conv3_block3_2_conv (Conv2  (None, 8, 8, 128)            147584    ['conv3_block3_1_relu[0][0]'] \n",
            " D)                                                                                               \n",
            "                                                                                                  \n",
            " conv3_block3_2_bn (BatchNo  (None, 8, 8, 128)            512       ['conv3_block3_2_conv[0][0]'] \n",
            " rmalization)                                                                                     \n",
            "                                                                                                  \n",
            " conv3_block3_2_relu (Activ  (None, 8, 8, 128)            0         ['conv3_block3_2_bn[0][0]']   \n",
            " ation)                                                                                           \n",
            "                                                                                                  \n",
            " conv3_block3_3_conv (Conv2  (None, 8, 8, 512)            66048     ['conv3_block3_2_relu[0][0]'] \n",
            " D)                                                                                               \n",
            "                                                                                                  \n",
            " conv3_block3_3_bn (BatchNo  (None, 8, 8, 512)            2048      ['conv3_block3_3_conv[0][0]'] \n",
            " rmalization)                                                                                     \n",
            "                                                                                                  \n",
            " conv3_block3_add (Add)      (None, 8, 8, 512)            0         ['conv3_block2_out[0][0]',    \n",
            "                                                                     'conv3_block3_3_bn[0][0]']   \n",
            "                                                                                                  \n",
            " conv3_block3_out (Activati  (None, 8, 8, 512)            0         ['conv3_block3_add[0][0]']    \n",
            " on)                                                                                              \n",
            "                                                                                                  \n",
            " conv3_block4_1_conv (Conv2  (None, 8, 8, 128)            65664     ['conv3_block3_out[0][0]']    \n",
            " D)                                                                                               \n",
            "                                                                                                  \n",
            " conv3_block4_1_bn (BatchNo  (None, 8, 8, 128)            512       ['conv3_block4_1_conv[0][0]'] \n",
            " rmalization)                                                                                     \n",
            "                                                                                                  \n",
            " conv3_block4_1_relu (Activ  (None, 8, 8, 128)            0         ['conv3_block4_1_bn[0][0]']   \n",
            " ation)                                                                                           \n",
            "                                                                                                  \n",
            " conv3_block4_2_conv (Conv2  (None, 8, 8, 128)            147584    ['conv3_block4_1_relu[0][0]'] \n",
            " D)                                                                                               \n",
            "                                                                                                  \n",
            " conv3_block4_2_bn (BatchNo  (None, 8, 8, 128)            512       ['conv3_block4_2_conv[0][0]'] \n",
            " rmalization)                                                                                     \n",
            "                                                                                                  \n",
            " conv3_block4_2_relu (Activ  (None, 8, 8, 128)            0         ['conv3_block4_2_bn[0][0]']   \n",
            " ation)                                                                                           \n",
            "                                                                                                  \n",
            " conv3_block4_3_conv (Conv2  (None, 8, 8, 512)            66048     ['conv3_block4_2_relu[0][0]'] \n",
            " D)                                                                                               \n",
            "                                                                                                  \n",
            " conv3_block4_3_bn (BatchNo  (None, 8, 8, 512)            2048      ['conv3_block4_3_conv[0][0]'] \n",
            " rmalization)                                                                                     \n",
            "                                                                                                  \n",
            " conv3_block4_add (Add)      (None, 8, 8, 512)            0         ['conv3_block3_out[0][0]',    \n",
            "                                                                     'conv3_block4_3_bn[0][0]']   \n",
            "                                                                                                  \n",
            " conv3_block4_out (Activati  (None, 8, 8, 512)            0         ['conv3_block4_add[0][0]']    \n",
            " on)                                                                                              \n",
            "                                                                                                  \n",
            " conv4_block1_1_conv (Conv2  (None, 4, 4, 256)            131328    ['conv3_block4_out[0][0]']    \n",
            " D)                                                                                               \n",
            "                                                                                                  \n",
            " conv4_block1_1_bn (BatchNo  (None, 4, 4, 256)            1024      ['conv4_block1_1_conv[0][0]'] \n",
            " rmalization)                                                                                     \n",
            "                                                                                                  \n",
            " conv4_block1_1_relu (Activ  (None, 4, 4, 256)            0         ['conv4_block1_1_bn[0][0]']   \n",
            " ation)                                                                                           \n",
            "                                                                                                  \n",
            " conv4_block1_2_conv (Conv2  (None, 4, 4, 256)            590080    ['conv4_block1_1_relu[0][0]'] \n",
            " D)                                                                                               \n",
            "                                                                                                  \n",
            " conv4_block1_2_bn (BatchNo  (None, 4, 4, 256)            1024      ['conv4_block1_2_conv[0][0]'] \n",
            " rmalization)                                                                                     \n",
            "                                                                                                  \n",
            " conv4_block1_2_relu (Activ  (None, 4, 4, 256)            0         ['conv4_block1_2_bn[0][0]']   \n",
            " ation)                                                                                           \n",
            "                                                                                                  \n",
            " conv4_block1_0_conv (Conv2  (None, 4, 4, 1024)           525312    ['conv3_block4_out[0][0]']    \n",
            " D)                                                                                               \n",
            "                                                                                                  \n",
            " conv4_block1_3_conv (Conv2  (None, 4, 4, 1024)           263168    ['conv4_block1_2_relu[0][0]'] \n",
            " D)                                                                                               \n",
            "                                                                                                  \n",
            " conv4_block1_0_bn (BatchNo  (None, 4, 4, 1024)           4096      ['conv4_block1_0_conv[0][0]'] \n",
            " rmalization)                                                                                     \n",
            "                                                                                                  \n",
            " conv4_block1_3_bn (BatchNo  (None, 4, 4, 1024)           4096      ['conv4_block1_3_conv[0][0]'] \n",
            " rmalization)                                                                                     \n",
            "                                                                                                  \n",
            " conv4_block1_add (Add)      (None, 4, 4, 1024)           0         ['conv4_block1_0_bn[0][0]',   \n",
            "                                                                     'conv4_block1_3_bn[0][0]']   \n",
            "                                                                                                  \n",
            " conv4_block1_out (Activati  (None, 4, 4, 1024)           0         ['conv4_block1_add[0][0]']    \n",
            " on)                                                                                              \n",
            "                                                                                                  \n",
            " conv4_block2_1_conv (Conv2  (None, 4, 4, 256)            262400    ['conv4_block1_out[0][0]']    \n",
            " D)                                                                                               \n",
            "                                                                                                  \n",
            " conv4_block2_1_bn (BatchNo  (None, 4, 4, 256)            1024      ['conv4_block2_1_conv[0][0]'] \n",
            " rmalization)                                                                                     \n",
            "                                                                                                  \n",
            " conv4_block2_1_relu (Activ  (None, 4, 4, 256)            0         ['conv4_block2_1_bn[0][0]']   \n",
            " ation)                                                                                           \n",
            "                                                                                                  \n",
            " conv4_block2_2_conv (Conv2  (None, 4, 4, 256)            590080    ['conv4_block2_1_relu[0][0]'] \n",
            " D)                                                                                               \n",
            "                                                                                                  \n",
            " conv4_block2_2_bn (BatchNo  (None, 4, 4, 256)            1024      ['conv4_block2_2_conv[0][0]'] \n",
            " rmalization)                                                                                     \n",
            "                                                                                                  \n",
            " conv4_block2_2_relu (Activ  (None, 4, 4, 256)            0         ['conv4_block2_2_bn[0][0]']   \n",
            " ation)                                                                                           \n",
            "                                                                                                  \n",
            " conv4_block2_3_conv (Conv2  (None, 4, 4, 1024)           263168    ['conv4_block2_2_relu[0][0]'] \n",
            " D)                                                                                               \n",
            "                                                                                                  \n",
            " conv4_block2_3_bn (BatchNo  (None, 4, 4, 1024)           4096      ['conv4_block2_3_conv[0][0]'] \n",
            " rmalization)                                                                                     \n",
            "                                                                                                  \n",
            " conv4_block2_add (Add)      (None, 4, 4, 1024)           0         ['conv4_block1_out[0][0]',    \n",
            "                                                                     'conv4_block2_3_bn[0][0]']   \n",
            "                                                                                                  \n",
            " conv4_block2_out (Activati  (None, 4, 4, 1024)           0         ['conv4_block2_add[0][0]']    \n",
            " on)                                                                                              \n",
            "                                                                                                  \n",
            " conv4_block3_1_conv (Conv2  (None, 4, 4, 256)            262400    ['conv4_block2_out[0][0]']    \n",
            " D)                                                                                               \n",
            "                                                                                                  \n",
            " conv4_block3_1_bn (BatchNo  (None, 4, 4, 256)            1024      ['conv4_block3_1_conv[0][0]'] \n",
            " rmalization)                                                                                     \n",
            "                                                                                                  \n",
            " conv4_block3_1_relu (Activ  (None, 4, 4, 256)            0         ['conv4_block3_1_bn[0][0]']   \n",
            " ation)                                                                                           \n",
            "                                                                                                  \n",
            " conv4_block3_2_conv (Conv2  (None, 4, 4, 256)            590080    ['conv4_block3_1_relu[0][0]'] \n",
            " D)                                                                                               \n",
            "                                                                                                  \n",
            " conv4_block3_2_bn (BatchNo  (None, 4, 4, 256)            1024      ['conv4_block3_2_conv[0][0]'] \n",
            " rmalization)                                                                                     \n",
            "                                                                                                  \n",
            " conv4_block3_2_relu (Activ  (None, 4, 4, 256)            0         ['conv4_block3_2_bn[0][0]']   \n",
            " ation)                                                                                           \n",
            "                                                                                                  \n",
            " conv4_block3_3_conv (Conv2  (None, 4, 4, 1024)           263168    ['conv4_block3_2_relu[0][0]'] \n",
            " D)                                                                                               \n",
            "                                                                                                  \n",
            " conv4_block3_3_bn (BatchNo  (None, 4, 4, 1024)           4096      ['conv4_block3_3_conv[0][0]'] \n",
            " rmalization)                                                                                     \n",
            "                                                                                                  \n",
            " conv4_block3_add (Add)      (None, 4, 4, 1024)           0         ['conv4_block2_out[0][0]',    \n",
            "                                                                     'conv4_block3_3_bn[0][0]']   \n",
            "                                                                                                  \n",
            " conv4_block3_out (Activati  (None, 4, 4, 1024)           0         ['conv4_block3_add[0][0]']    \n",
            " on)                                                                                              \n",
            "                                                                                                  \n",
            " conv4_block4_1_conv (Conv2  (None, 4, 4, 256)            262400    ['conv4_block3_out[0][0]']    \n",
            " D)                                                                                               \n",
            "                                                                                                  \n",
            " conv4_block4_1_bn (BatchNo  (None, 4, 4, 256)            1024      ['conv4_block4_1_conv[0][0]'] \n",
            " rmalization)                                                                                     \n",
            "                                                                                                  \n",
            " conv4_block4_1_relu (Activ  (None, 4, 4, 256)            0         ['conv4_block4_1_bn[0][0]']   \n",
            " ation)                                                                                           \n",
            "                                                                                                  \n",
            " conv4_block4_2_conv (Conv2  (None, 4, 4, 256)            590080    ['conv4_block4_1_relu[0][0]'] \n",
            " D)                                                                                               \n",
            "                                                                                                  \n",
            " conv4_block4_2_bn (BatchNo  (None, 4, 4, 256)            1024      ['conv4_block4_2_conv[0][0]'] \n",
            " rmalization)                                                                                     \n",
            "                                                                                                  \n",
            " conv4_block4_2_relu (Activ  (None, 4, 4, 256)            0         ['conv4_block4_2_bn[0][0]']   \n",
            " ation)                                                                                           \n",
            "                                                                                                  \n",
            " conv4_block4_3_conv (Conv2  (None, 4, 4, 1024)           263168    ['conv4_block4_2_relu[0][0]'] \n",
            " D)                                                                                               \n",
            "                                                                                                  \n",
            " conv4_block4_3_bn (BatchNo  (None, 4, 4, 1024)           4096      ['conv4_block4_3_conv[0][0]'] \n",
            " rmalization)                                                                                     \n",
            "                                                                                                  \n",
            " conv4_block4_add (Add)      (None, 4, 4, 1024)           0         ['conv4_block3_out[0][0]',    \n",
            "                                                                     'conv4_block4_3_bn[0][0]']   \n",
            "                                                                                                  \n",
            " conv4_block4_out (Activati  (None, 4, 4, 1024)           0         ['conv4_block4_add[0][0]']    \n",
            " on)                                                                                              \n",
            "                                                                                                  \n",
            " conv4_block5_1_conv (Conv2  (None, 4, 4, 256)            262400    ['conv4_block4_out[0][0]']    \n",
            " D)                                                                                               \n",
            "                                                                                                  \n",
            " conv4_block5_1_bn (BatchNo  (None, 4, 4, 256)            1024      ['conv4_block5_1_conv[0][0]'] \n",
            " rmalization)                                                                                     \n",
            "                                                                                                  \n",
            " conv4_block5_1_relu (Activ  (None, 4, 4, 256)            0         ['conv4_block5_1_bn[0][0]']   \n",
            " ation)                                                                                           \n",
            "                                                                                                  \n",
            " conv4_block5_2_conv (Conv2  (None, 4, 4, 256)            590080    ['conv4_block5_1_relu[0][0]'] \n",
            " D)                                                                                               \n",
            "                                                                                                  \n",
            " conv4_block5_2_bn (BatchNo  (None, 4, 4, 256)            1024      ['conv4_block5_2_conv[0][0]'] \n",
            " rmalization)                                                                                     \n",
            "                                                                                                  \n",
            " conv4_block5_2_relu (Activ  (None, 4, 4, 256)            0         ['conv4_block5_2_bn[0][0]']   \n",
            " ation)                                                                                           \n",
            "                                                                                                  \n",
            " conv4_block5_3_conv (Conv2  (None, 4, 4, 1024)           263168    ['conv4_block5_2_relu[0][0]'] \n",
            " D)                                                                                               \n",
            "                                                                                                  \n",
            " conv4_block5_3_bn (BatchNo  (None, 4, 4, 1024)           4096      ['conv4_block5_3_conv[0][0]'] \n",
            " rmalization)                                                                                     \n",
            "                                                                                                  \n",
            " conv4_block5_add (Add)      (None, 4, 4, 1024)           0         ['conv4_block4_out[0][0]',    \n",
            "                                                                     'conv4_block5_3_bn[0][0]']   \n",
            "                                                                                                  \n",
            " conv4_block5_out (Activati  (None, 4, 4, 1024)           0         ['conv4_block5_add[0][0]']    \n",
            " on)                                                                                              \n",
            "                                                                                                  \n",
            " conv4_block6_1_conv (Conv2  (None, 4, 4, 256)            262400    ['conv4_block5_out[0][0]']    \n",
            " D)                                                                                               \n",
            "                                                                                                  \n",
            " conv4_block6_1_bn (BatchNo  (None, 4, 4, 256)            1024      ['conv4_block6_1_conv[0][0]'] \n",
            " rmalization)                                                                                     \n",
            "                                                                                                  \n",
            " conv4_block6_1_relu (Activ  (None, 4, 4, 256)            0         ['conv4_block6_1_bn[0][0]']   \n",
            " ation)                                                                                           \n",
            "                                                                                                  \n",
            " conv4_block6_2_conv (Conv2  (None, 4, 4, 256)            590080    ['conv4_block6_1_relu[0][0]'] \n",
            " D)                                                                                               \n",
            "                                                                                                  \n",
            " conv4_block6_2_bn (BatchNo  (None, 4, 4, 256)            1024      ['conv4_block6_2_conv[0][0]'] \n",
            " rmalization)                                                                                     \n",
            "                                                                                                  \n",
            " conv4_block6_2_relu (Activ  (None, 4, 4, 256)            0         ['conv4_block6_2_bn[0][0]']   \n",
            " ation)                                                                                           \n",
            "                                                                                                  \n",
            " conv4_block6_3_conv (Conv2  (None, 4, 4, 1024)           263168    ['conv4_block6_2_relu[0][0]'] \n",
            " D)                                                                                               \n",
            "                                                                                                  \n",
            " conv4_block6_3_bn (BatchNo  (None, 4, 4, 1024)           4096      ['conv4_block6_3_conv[0][0]'] \n",
            " rmalization)                                                                                     \n",
            "                                                                                                  \n",
            " conv4_block6_add (Add)      (None, 4, 4, 1024)           0         ['conv4_block5_out[0][0]',    \n",
            "                                                                     'conv4_block6_3_bn[0][0]']   \n",
            "                                                                                                  \n",
            " conv4_block6_out (Activati  (None, 4, 4, 1024)           0         ['conv4_block6_add[0][0]']    \n",
            " on)                                                                                              \n",
            "                                                                                                  \n",
            " conv5_block1_1_conv (Conv2  (None, 2, 2, 512)            524800    ['conv4_block6_out[0][0]']    \n",
            " D)                                                                                               \n",
            "                                                                                                  \n",
            " conv5_block1_1_bn (BatchNo  (None, 2, 2, 512)            2048      ['conv5_block1_1_conv[0][0]'] \n",
            " rmalization)                                                                                     \n",
            "                                                                                                  \n",
            " conv5_block1_1_relu (Activ  (None, 2, 2, 512)            0         ['conv5_block1_1_bn[0][0]']   \n",
            " ation)                                                                                           \n",
            "                                                                                                  \n",
            " conv5_block1_2_conv (Conv2  (None, 2, 2, 512)            2359808   ['conv5_block1_1_relu[0][0]'] \n",
            " D)                                                                                               \n",
            "                                                                                                  \n",
            " conv5_block1_2_bn (BatchNo  (None, 2, 2, 512)            2048      ['conv5_block1_2_conv[0][0]'] \n",
            " rmalization)                                                                                     \n",
            "                                                                                                  \n",
            " conv5_block1_2_relu (Activ  (None, 2, 2, 512)            0         ['conv5_block1_2_bn[0][0]']   \n",
            " ation)                                                                                           \n",
            "                                                                                                  \n",
            " conv5_block1_0_conv (Conv2  (None, 2, 2, 2048)           2099200   ['conv4_block6_out[0][0]']    \n",
            " D)                                                                                               \n",
            "                                                                                                  \n",
            " conv5_block1_3_conv (Conv2  (None, 2, 2, 2048)           1050624   ['conv5_block1_2_relu[0][0]'] \n",
            " D)                                                                                               \n",
            "                                                                                                  \n",
            " conv5_block1_0_bn (BatchNo  (None, 2, 2, 2048)           8192      ['conv5_block1_0_conv[0][0]'] \n",
            " rmalization)                                                                                     \n",
            "                                                                                                  \n",
            " conv5_block1_3_bn (BatchNo  (None, 2, 2, 2048)           8192      ['conv5_block1_3_conv[0][0]'] \n",
            " rmalization)                                                                                     \n",
            "                                                                                                  \n",
            " conv5_block1_add (Add)      (None, 2, 2, 2048)           0         ['conv5_block1_0_bn[0][0]',   \n",
            "                                                                     'conv5_block1_3_bn[0][0]']   \n",
            "                                                                                                  \n",
            " conv5_block1_out (Activati  (None, 2, 2, 2048)           0         ['conv5_block1_add[0][0]']    \n",
            " on)                                                                                              \n",
            "                                                                                                  \n",
            " conv5_block2_1_conv (Conv2  (None, 2, 2, 512)            1049088   ['conv5_block1_out[0][0]']    \n",
            " D)                                                                                               \n",
            "                                                                                                  \n",
            " conv5_block2_1_bn (BatchNo  (None, 2, 2, 512)            2048      ['conv5_block2_1_conv[0][0]'] \n",
            " rmalization)                                                                                     \n",
            "                                                                                                  \n",
            " conv5_block2_1_relu (Activ  (None, 2, 2, 512)            0         ['conv5_block2_1_bn[0][0]']   \n",
            " ation)                                                                                           \n",
            "                                                                                                  \n",
            " conv5_block2_2_conv (Conv2  (None, 2, 2, 512)            2359808   ['conv5_block2_1_relu[0][0]'] \n",
            " D)                                                                                               \n",
            "                                                                                                  \n",
            " conv5_block2_2_bn (BatchNo  (None, 2, 2, 512)            2048      ['conv5_block2_2_conv[0][0]'] \n",
            " rmalization)                                                                                     \n",
            "                                                                                                  \n",
            " conv5_block2_2_relu (Activ  (None, 2, 2, 512)            0         ['conv5_block2_2_bn[0][0]']   \n",
            " ation)                                                                                           \n",
            "                                                                                                  \n",
            " conv5_block2_3_conv (Conv2  (None, 2, 2, 2048)           1050624   ['conv5_block2_2_relu[0][0]'] \n",
            " D)                                                                                               \n",
            "                                                                                                  \n",
            " conv5_block2_3_bn (BatchNo  (None, 2, 2, 2048)           8192      ['conv5_block2_3_conv[0][0]'] \n",
            " rmalization)                                                                                     \n",
            "                                                                                                  \n",
            " conv5_block2_add (Add)      (None, 2, 2, 2048)           0         ['conv5_block1_out[0][0]',    \n",
            "                                                                     'conv5_block2_3_bn[0][0]']   \n",
            "                                                                                                  \n",
            " conv5_block2_out (Activati  (None, 2, 2, 2048)           0         ['conv5_block2_add[0][0]']    \n",
            " on)                                                                                              \n",
            "                                                                                                  \n",
            " conv5_block3_1_conv (Conv2  (None, 2, 2, 512)            1049088   ['conv5_block2_out[0][0]']    \n",
            " D)                                                                                               \n",
            "                                                                                                  \n",
            " conv5_block3_1_bn (BatchNo  (None, 2, 2, 512)            2048      ['conv5_block3_1_conv[0][0]'] \n",
            " rmalization)                                                                                     \n",
            "                                                                                                  \n",
            " conv5_block3_1_relu (Activ  (None, 2, 2, 512)            0         ['conv5_block3_1_bn[0][0]']   \n",
            " ation)                                                                                           \n",
            "                                                                                                  \n",
            " conv5_block3_2_conv (Conv2  (None, 2, 2, 512)            2359808   ['conv5_block3_1_relu[0][0]'] \n",
            " D)                                                                                               \n",
            "                                                                                                  \n",
            " conv5_block3_2_bn (BatchNo  (None, 2, 2, 512)            2048      ['conv5_block3_2_conv[0][0]'] \n",
            " rmalization)                                                                                     \n",
            "                                                                                                  \n",
            " conv5_block3_2_relu (Activ  (None, 2, 2, 512)            0         ['conv5_block3_2_bn[0][0]']   \n",
            " ation)                                                                                           \n",
            "                                                                                                  \n",
            " conv5_block3_3_conv (Conv2  (None, 2, 2, 2048)           1050624   ['conv5_block3_2_relu[0][0]'] \n",
            " D)                                                                                               \n",
            "                                                                                                  \n",
            " conv5_block3_3_bn (BatchNo  (None, 2, 2, 2048)           8192      ['conv5_block3_3_conv[0][0]'] \n",
            " rmalization)                                                                                     \n",
            "                                                                                                  \n",
            " conv5_block3_add (Add)      (None, 2, 2, 2048)           0         ['conv5_block2_out[0][0]',    \n",
            "                                                                     'conv5_block3_3_bn[0][0]']   \n",
            "                                                                                                  \n",
            " conv5_block3_out (Activati  (None, 2, 2, 2048)           0         ['conv5_block3_add[0][0]']    \n",
            " on)                                                                                              \n",
            "                                                                                                  \n",
            "==================================================================================================\n",
            "Total params: 23587712 (89.98 MB)\n",
            "Trainable params: 23534592 (89.78 MB)\n",
            "Non-trainable params: 53120 (207.50 KB)\n",
            "__________________________________________________________________________________________________\n"
          ]
        }
      ],
      "source": [
        "conv_base2.summary()"
      ]
    },
    {
      "cell_type": "code",
      "execution_count": null,
      "metadata": {
        "id": "ekVbkL6EWXN2"
      },
      "outputs": [],
      "source": [
        "model4 = keras.Sequential([\n",
        "    conv_base2,\n",
        "    keras.layers.Flatten(),\n",
        "    keras.layers.Dense(512,activation='relu'),\n",
        "    keras.layers.Dropout(0.4),\n",
        "    keras.layers.Dense(300,activation='relu'),\n",
        "    keras.layers.Dropout(0.3),\n",
        "    keras.layers.Dense(2,activation='softmax'),\n",
        "\n",
        "])"
      ]
    },
    {
      "cell_type": "code",
      "execution_count": null,
      "metadata": {
        "id": "TNkTkSlTWgLp"
      },
      "outputs": [],
      "source": [
        "conv_base2.trainable=False"
      ]
    },
    {
      "cell_type": "code",
      "execution_count": null,
      "metadata": {
        "colab": {
          "base_uri": "https://localhost:8080/"
        },
        "id": "Y5z0fatjWrs7",
        "outputId": "ba031956-9b6e-42fa-a8e6-cccdd896e230"
      },
      "outputs": [
        {
          "name": "stderr",
          "output_type": "stream",
          "text": [
            "<ipython-input-58-d3c8447546d6>:2: UserWarning: `Model.fit_generator` is deprecated and will be removed in a future version. Please use `Model.fit`, which supports generators.\n",
            "  history4 = model4.fit_generator(train_datagen,validation_data=test_datagen,epochs=5)\n"
          ]
        },
        {
          "name": "stdout",
          "output_type": "stream",
          "text": [
            "Epoch 1/5\n",
            "3439/3439 [==============================] - 101s 27ms/step - loss: 0.6994 - accuracy: 0.5144 - val_loss: 0.6933 - val_accuracy: 0.5022\n",
            "Epoch 2/5\n",
            "3439/3439 [==============================] - 96s 28ms/step - loss: 0.6935 - accuracy: 0.5010 - val_loss: 0.6932 - val_accuracy: 0.5022\n",
            "Epoch 3/5\n",
            "3439/3439 [==============================] - 93s 27ms/step - loss: 0.6933 - accuracy: 0.5011 - val_loss: 0.6931 - val_accuracy: 0.5022\n",
            "Epoch 4/5\n",
            "3439/3439 [==============================] - 98s 28ms/step - loss: 0.6932 - accuracy: 0.4998 - val_loss: 0.6934 - val_accuracy: 0.5022\n",
            "Epoch 5/5\n",
            "3439/3439 [==============================] - 92s 27ms/step - loss: 0.6932 - accuracy: 0.5026 - val_loss: 0.6932 - val_accuracy: 0.4978\n"
          ]
        }
      ],
      "source": [
        "model4.compile(optimizer='adam',loss='categorical_crossentropy',metrics='accuracy')\n",
        "history4 = model4.fit_generator(train_datagen,validation_data=test_datagen,epochs=5)"
      ]
    },
    {
      "cell_type": "markdown",
      "metadata": {
        "id": "NeUb6mAkWzve"
      },
      "source": [
        "##We uses the different techniques and best results we get from Data Argumentation, so we can procced with data argumentation."
      ]
    },
    {
      "cell_type": "markdown",
      "metadata": {
        "id": "AvvKiFvTBI7-"
      },
      "source": [
        "#Plotting the confusion matrix\n"
      ]
    },
    {
      "cell_type": "code",
      "execution_count": 42,
      "metadata": {
        "colab": {
          "base_uri": "https://localhost:8080/"
        },
        "id": "4aZaGAClBNOr",
        "outputId": "762d488c-3945-457e-fd00-594f9ceade97"
      },
      "outputs": [
        {
          "output_type": "stream",
          "name": "stdout",
          "text": [
            "79/79 [==============================] - 1s 10ms/step\n"
          ]
        }
      ],
      "source": [
        "y_pred = model1.predict(x).round(2)"
      ]
    },
    {
      "cell_type": "code",
      "execution_count": 43,
      "metadata": {
        "colab": {
          "base_uri": "https://localhost:8080/",
          "height": 830
        },
        "id": "CEVf2duPBQ5R",
        "outputId": "98c22616-0766-4388-bb2a-55370193e67c"
      },
      "outputs": [
        {
          "output_type": "display_data",
          "data": {
            "text/plain": [
              "<Figure size 1200x1000 with 2 Axes>"
            ],
            "image/png": "[encoded data removed]"
          },
          "metadata": {}
        }
      ],
      "source": [
        "from sklearn.metrics import confusion_matrix\n",
        "from matplotlib import pyplot as plt\n",
        "import seaborn as sns\n",
        "import numpy as np\n",
        "plt.figure(figsize=(12,10))\n",
        "y_pred_labels = [np.argmax(label) for label in y_pred]\n",
        "cm = confusion_matrix(y,y_pred_labels)\n",
        "sns.heatmap(cm,annot=True,fmt='d',xticklabels=categories,yticklabels=categories)\n",
        "plt.show()"
      ]
    },
    {
      "cell_type": "markdown",
      "metadata": {
        "id": "F13b6BKJvWK6"
      },
      "source": [
        "#Saving the model in h5 file\n"
      ]
    },
    {
      "cell_type": "code",
      "execution_count": 37,
      "metadata": {
        "colab": {
          "base_uri": "https://localhost:8080/"
        },
        "id": "V2yCIAG2xvHW",
        "outputId": "ec0f3e63-fa28-491c-b543-cb53d8ac5e5d"
      },
      "outputs": [
        {
          "output_type": "stream",
          "name": "stderr",
          "text": [
            "/usr/local/lib/python3.10/dist-packages/keras/src/engine/training.py:3103: UserWarning: You are saving your model as an HDF5 file via `model.save()`. This file format is considered legacy. We recommend using instead the native Keras format, e.g. `model.save('my_model.keras')`.\n",
            "  saving_api.save_model(\n"
          ]
        }
      ],
      "source": [
        "#Here we only saving model1 which is data argumentated model.\n",
        "model1.save('/content/drive/MyDrive/saved model/model1.h5')\n"
      ]
    },
    {
      "cell_type": "markdown",
      "source": [
        "#Precision recall and f1 score\n"
      ],
      "metadata": {
        "id": "jwu4WKPg0sIv"
      }
    },
    {
      "cell_type": "code",
      "source": [
        "from sklearn.metrics import classification_report\n",
        "cr = classification_report(y,y_pred_labels,target_names=categories)\n",
        "print(cr)"
      ],
      "metadata": {
        "colab": {
          "base_uri": "https://localhost:8080/"
        },
        "id": "V-QvRFmo0jyl",
        "outputId": "8c8275c0-248f-49b3-8e83-ccb896e5068f"
      },
      "execution_count": 44,
      "outputs": [
        {
          "output_type": "stream",
          "name": "stdout",
          "text": [
            "              precision    recall  f1-score   support\n",
            "\n",
            "  Close eyes       0.95      0.91      0.93      1254\n",
            "   Open eyes       0.92      0.95      0.93      1243\n",
            "\n",
            "    accuracy                           0.93      2497\n",
            "   macro avg       0.93      0.93      0.93      2497\n",
            "weighted avg       0.93      0.93      0.93      2497\n",
            "\n"
          ]
        }
      ]
    },
    {
      "cell_type": "code",
      "execution_count": 38,
      "metadata": {
        "colab": {
          "base_uri": "https://localhost:8080/"
        },
        "id": "6K4U4I1wN1YX",
        "outputId": "6e3fc47d-313d-41c2-a512-c7211b25cc97"
      },
      "outputs": [
        {
          "output_type": "stream",
          "name": "stdout",
          "text": [
            "Enter the path of images:-/content/drive/MyDrive/360_F_332016692_23t2R16cywAOPjFTk6ldvxeyiEhNvOqn.jpg\n",
            "1/1 [==============================] - 0s 83ms/step\n",
            "Close eyes\n"
          ]
        }
      ],
      "source": [
        "input_1 = input('Enter the path of images:-')\n",
        "inpt_path = cv2.imread(input_1)\n",
        "input_resize = cv2.resize(inpt_path,(60,60))\n",
        "input_reshape=input_resize.reshape(1,60,60,3)\n",
        "print(categories[np.argmax(model1.predict(input_reshape))])\n"
      ]
    }
  ],
  "metadata": {
    "colab": {
      "provenance": [],
      "gpuType": "T4"
    },
    "kernelspec": {
      "display_name": "Python 3",
      "name": "python3"
    },
    "language_info": {
      "name": "python"
    },
    "accelerator": "GPU"
  },
  "nbformat": 4,
  "nbformat_minor": 0
}